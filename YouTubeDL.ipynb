{
 "cells": [
  {
   "cell_type": "markdown",
   "metadata": {},
   "source": [
    "## <p style = \"text-align: center\" > Using pytube to download YouTube Videos </p>\n",
    "---\n",
    "***pytube*** is a Python library that allows you to work with YouTube videos. It provides functionality to interact with YouTube, such as:\n",
    "\n",
    "- Downloading Videos: You can use pytube to download YouTube videos directly to your local machine.\n",
    "\n",
    "- Retrieving Video Information: You can obtain information about a YouTube video, such as its title, duration, resolution, and more.\n",
    "\n",
    "- Working with Playlists: pytube supports working with YouTube playlists, allowing you to download all videos in a playlist.\n",
    "\n",
    "- Audio Extraction: You can extract audio from YouTube videos and save it as a separate file."
   ]
  },
  {
   "cell_type": "code",
   "execution_count": 2,
   "metadata": {},
   "outputs": [],
   "source": [
    "#importing pytube library\n",
    "import pytube"
   ]
  },
  {
   "cell_type": "code",
   "execution_count": null,
   "metadata": {},
   "outputs": [],
   "source": [
    "# Using ./ as a shorthand notation representing the current directory.\n",
    "download_loc = './' \n",
    "\n",
    "video_url = input('Enter URL: ') # Prompt Requesting user for link\n",
    "\n",
    "video_instance = pytube.YouTube(video_url)\n",
    "# video_instance will be an object that provides various methods and attributes for interacting with the YouTube video\n",
    "\n",
    "stream = video_instance.streams.get_highest_resolution()\n",
    "\n",
    "stream.download()\n"
   ]
  }
 ],
 "metadata": {
  "kernelspec": {
   "display_name": "myenv",
   "language": "python",
   "name": "python3"
  },
  "language_info": {
   "codemirror_mode": {
    "name": "ipython",
    "version": 3
   },
   "file_extension": ".py",
   "mimetype": "text/x-python",
   "name": "python",
   "nbconvert_exporter": "python",
   "pygments_lexer": "ipython3",
   "version": "3.9.16"
  }
 },
 "nbformat": 4,
 "nbformat_minor": 2
}
